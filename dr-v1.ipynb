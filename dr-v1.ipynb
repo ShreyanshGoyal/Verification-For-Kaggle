{
 "cells": [
  {
   "cell_type": "code",
   "execution_count": 1,
   "id": "68492c96",
   "metadata": {
    "_cell_guid": "b1076dfc-b9ad-4769-8c92-a6c4dae69d19",
    "_uuid": "8f2839f25d086af736a60e9eeb907d3b93b6e0e5",
    "execution": {
     "iopub.execute_input": "2022-07-30T11:06:13.096092Z",
     "iopub.status.busy": "2022-07-30T11:06:13.095065Z",
     "iopub.status.idle": "2022-07-30T11:06:17.583385Z",
     "shell.execute_reply": "2022-07-30T11:06:17.582426Z"
    },
    "papermill": {
     "duration": 4.498018,
     "end_time": "2022-07-30T11:06:17.586929",
     "exception": false,
     "start_time": "2022-07-30T11:06:13.088911",
     "status": "completed"
    },
    "tags": []
   },
   "outputs": [
    {
     "name": "stdout",
     "output_type": "stream",
     "text": [
      "2.6.4\n",
      "/kaggle/input/digit-recognizer/sample_submission.csv\n",
      "/kaggle/input/digit-recognizer/train.csv\n",
      "/kaggle/input/digit-recognizer/test.csv\n"
     ]
    }
   ],
   "source": [
    "# This Python 3 environment comes with many helpful analytics libraries installed\n",
    "# It is defined by the kaggle/python Docker image: https://github.com/kaggle/docker-python\n",
    "# For example, here's several helpful packages to load\n",
    "import tensorflow as tf\n",
    "print(tf.__version__)\n",
    "import numpy as np # linear algebra\n",
    "import pandas as pd # data processing, CSV file I/O (e.g. pd.read_csv)\n",
    "\n",
    "# Input data files are available in the read-only \"../input/\" directory\n",
    "# For example, running this (by clicking run or pressing Shift+Enter) will list all files under the input directory\n",
    "\n",
    "import os\n",
    "for dirname, _, filenames in os.walk('/kaggle/input'):\n",
    "    for filename in filenames:\n",
    "        print(os.path.join(dirname, filename))\n",
    "\n",
    "# You can write up to 20GB to the current directory (/kaggle/working/) that gets preserved as output when you create a version using \"Save & Run All\" \n",
    "# You can also write temporary files to /kaggle/temp/, but they won't be saved outside of the current session"
   ]
  },
  {
   "cell_type": "code",
   "execution_count": 2,
   "id": "57338532",
   "metadata": {
    "execution": {
     "iopub.execute_input": "2022-07-30T11:06:17.597578Z",
     "iopub.status.busy": "2022-07-30T11:06:17.595872Z",
     "iopub.status.idle": "2022-07-30T11:06:22.340433Z",
     "shell.execute_reply": "2022-07-30T11:06:22.339326Z"
    },
    "papermill": {
     "duration": 4.752171,
     "end_time": "2022-07-30T11:06:22.343276",
     "exception": false,
     "start_time": "2022-07-30T11:06:17.591105",
     "status": "completed"
    },
    "tags": []
   },
   "outputs": [],
   "source": [
    "train_data = pd.read_csv('/kaggle/input/digit-recognizer/train.csv')\n",
    "test_data = pd.read_csv('/kaggle/input/digit-recognizer/test.csv')\n",
    "train_data = train_data.to_numpy()\n",
    "test_data = test_data.to_numpy()\n",
    "train_data = train_data\n",
    "test_data = test_data/255"
   ]
  },
  {
   "cell_type": "code",
   "execution_count": 3,
   "id": "3d0ae7b5",
   "metadata": {
    "execution": {
     "iopub.execute_input": "2022-07-30T11:06:22.353628Z",
     "iopub.status.busy": "2022-07-30T11:06:22.352642Z",
     "iopub.status.idle": "2022-07-30T11:06:23.909372Z",
     "shell.execute_reply": "2022-07-30T11:06:23.908446Z"
    },
    "papermill": {
     "duration": 1.56427,
     "end_time": "2022-07-30T11:06:23.912005",
     "exception": false,
     "start_time": "2022-07-30T11:06:22.347735",
     "status": "completed"
    },
    "tags": []
   },
   "outputs": [
    {
     "name": "stdout",
     "output_type": "stream",
     "text": [
      "Downloading data from https://storage.googleapis.com/tensorflow/tf-keras-datasets/mnist.npz\n",
      "11493376/11490434 [==============================] - 0s 0us/step\n",
      "11501568/11490434 [==============================] - 0s 0us/step\n"
     ]
    }
   ],
   "source": [
    "mnist = tf.keras.datasets.mnist\n",
    "(images, labels), (timages, tlabels) = mnist.load_data()"
   ]
  },
  {
   "cell_type": "code",
   "execution_count": 4,
   "id": "71f7f29c",
   "metadata": {
    "execution": {
     "iopub.execute_input": "2022-07-30T11:06:23.922588Z",
     "iopub.status.busy": "2022-07-30T11:06:23.921791Z",
     "iopub.status.idle": "2022-07-30T11:06:24.056455Z",
     "shell.execute_reply": "2022-07-30T11:06:24.055431Z"
    },
    "papermill": {
     "duration": 0.141986,
     "end_time": "2022-07-30T11:06:24.058681",
     "exception": false,
     "start_time": "2022-07-30T11:06:23.916695",
     "status": "completed"
    },
    "tags": []
   },
   "outputs": [
    {
     "data": {
      "text/plain": [
       "array([[0.        , 0.        , 0.        , 0.        , 0.        ,\n",
       "        0.        , 0.        , 0.        , 0.        , 0.        ,\n",
       "        0.        , 0.        , 0.        , 0.        , 0.        ,\n",
       "        0.        , 0.        , 0.        , 0.        , 0.        ,\n",
       "        0.        , 0.        , 0.        , 0.        , 0.        ,\n",
       "        0.        , 0.        , 0.        ],\n",
       "       [0.        , 0.        , 0.        , 0.        , 0.        ,\n",
       "        0.        , 0.        , 0.        , 0.        , 0.        ,\n",
       "        0.        , 0.        , 0.        , 0.        , 0.        ,\n",
       "        0.        , 0.        , 0.        , 0.        , 0.        ,\n",
       "        0.        , 0.        , 0.        , 0.        , 0.        ,\n",
       "        0.        , 0.        , 0.        ],\n",
       "       [0.        , 0.        , 0.        , 0.        , 0.        ,\n",
       "        0.        , 0.        , 0.        , 0.        , 0.        ,\n",
       "        0.        , 0.        , 0.        , 0.        , 0.        ,\n",
       "        0.        , 0.        , 0.        , 0.        , 0.        ,\n",
       "        0.        , 0.        , 0.        , 0.        , 0.        ,\n",
       "        0.        , 0.        , 0.        ],\n",
       "       [0.        , 0.        , 0.        , 0.        , 0.        ,\n",
       "        0.        , 0.        , 0.        , 0.        , 0.        ,\n",
       "        0.        , 0.        , 0.        , 0.        , 0.        ,\n",
       "        0.        , 0.        , 0.        , 0.        , 0.        ,\n",
       "        0.        , 0.        , 0.        , 0.        , 0.        ,\n",
       "        0.        , 0.        , 0.        ],\n",
       "       [0.        , 0.        , 0.        , 0.        , 0.        ,\n",
       "        0.        , 0.        , 0.        , 0.        , 0.        ,\n",
       "        0.        , 0.        , 0.        , 0.        , 0.        ,\n",
       "        0.2       , 0.62352941, 0.99215686, 0.62352941, 0.19607843,\n",
       "        0.        , 0.        , 0.        , 0.        , 0.        ,\n",
       "        0.        , 0.        , 0.        ],\n",
       "       [0.        , 0.        , 0.        , 0.        , 0.        ,\n",
       "        0.        , 0.        , 0.        , 0.        , 0.        ,\n",
       "        0.        , 0.        , 0.        , 0.        , 0.18823529,\n",
       "        0.93333333, 0.98823529, 0.98823529, 0.98823529, 0.92941176,\n",
       "        0.        , 0.        , 0.        , 0.        , 0.        ,\n",
       "        0.        , 0.        , 0.        ],\n",
       "       [0.        , 0.        , 0.        , 0.        , 0.        ,\n",
       "        0.        , 0.        , 0.        , 0.        , 0.        ,\n",
       "        0.        , 0.        , 0.        , 0.21176471, 0.89019608,\n",
       "        0.99215686, 0.98823529, 0.9372549 , 0.91372549, 0.98823529,\n",
       "        0.22352941, 0.02352941, 0.        , 0.        , 0.        ,\n",
       "        0.        , 0.        , 0.        ],\n",
       "       [0.        , 0.        , 0.        , 0.        , 0.        ,\n",
       "        0.        , 0.        , 0.        , 0.        , 0.        ,\n",
       "        0.        , 0.03921569, 0.23529412, 0.87843137, 0.98823529,\n",
       "        0.99215686, 0.98823529, 0.79215686, 0.32941176, 0.98823529,\n",
       "        0.99215686, 0.47843137, 0.        , 0.        , 0.        ,\n",
       "        0.        , 0.        , 0.        ],\n",
       "       [0.        , 0.        , 0.        , 0.        , 0.        ,\n",
       "        0.        , 0.        , 0.        , 0.        , 0.        ,\n",
       "        0.        , 0.63921569, 0.98823529, 0.98823529, 0.98823529,\n",
       "        0.99215686, 0.98823529, 0.98823529, 0.37647059, 0.74117647,\n",
       "        0.99215686, 0.65490196, 0.        , 0.        , 0.        ,\n",
       "        0.        , 0.        , 0.        ],\n",
       "       [0.        , 0.        , 0.        , 0.        , 0.        ,\n",
       "        0.        , 0.        , 0.        , 0.        , 0.        ,\n",
       "        0.2       , 0.93333333, 0.99215686, 0.99215686, 0.74509804,\n",
       "        0.44705882, 0.99215686, 0.89411765, 0.18431373, 0.30980392,\n",
       "        1.        , 0.65882353, 0.        , 0.        , 0.        ,\n",
       "        0.        , 0.        , 0.        ],\n",
       "       [0.        , 0.        , 0.        , 0.        , 0.        ,\n",
       "        0.        , 0.        , 0.        , 0.        , 0.18823529,\n",
       "        0.93333333, 0.98823529, 0.98823529, 0.70196078, 0.04705882,\n",
       "        0.29411765, 0.4745098 , 0.08235294, 0.        , 0.        ,\n",
       "        0.99215686, 0.95294118, 0.19607843, 0.        , 0.        ,\n",
       "        0.        , 0.        , 0.        ],\n",
       "       [0.        , 0.        , 0.        , 0.        , 0.        ,\n",
       "        0.        , 0.        , 0.        , 0.14901961, 0.64705882,\n",
       "        0.99215686, 0.91372549, 0.81568627, 0.32941176, 0.        ,\n",
       "        0.        , 0.        , 0.        , 0.        , 0.        ,\n",
       "        0.99215686, 0.98823529, 0.64705882, 0.        , 0.        ,\n",
       "        0.        , 0.        , 0.        ],\n",
       "       [0.        , 0.        , 0.        , 0.        , 0.        ,\n",
       "        0.        , 0.        , 0.02745098, 0.69803922, 0.98823529,\n",
       "        0.94117647, 0.27843137, 0.0745098 , 0.10980392, 0.        ,\n",
       "        0.        , 0.        , 0.        , 0.        , 0.        ,\n",
       "        0.99215686, 0.98823529, 0.76470588, 0.        , 0.        ,\n",
       "        0.        , 0.        , 0.        ],\n",
       "       [0.        , 0.        , 0.        , 0.        , 0.        ,\n",
       "        0.        , 0.        , 0.22352941, 0.98823529, 0.98823529,\n",
       "        0.24705882, 0.        , 0.        , 0.        , 0.        ,\n",
       "        0.        , 0.        , 0.        , 0.        , 0.        ,\n",
       "        0.99215686, 0.98823529, 0.76470588, 0.        , 0.        ,\n",
       "        0.        , 0.        , 0.        ],\n",
       "       [0.        , 0.        , 0.        , 0.        , 0.        ,\n",
       "        0.        , 0.        , 0.77647059, 0.99215686, 0.74509804,\n",
       "        0.        , 0.        , 0.        , 0.        , 0.        ,\n",
       "        0.        , 0.        , 0.        , 0.        , 0.        ,\n",
       "        1.        , 0.99215686, 0.76862745, 0.        , 0.        ,\n",
       "        0.        , 0.        , 0.        ],\n",
       "       [0.        , 0.        , 0.        , 0.        , 0.        ,\n",
       "        0.        , 0.29803922, 0.96470588, 0.98823529, 0.43921569,\n",
       "        0.        , 0.        , 0.        , 0.        , 0.        ,\n",
       "        0.        , 0.        , 0.        , 0.        , 0.        ,\n",
       "        0.99215686, 0.98823529, 0.58039216, 0.        , 0.        ,\n",
       "        0.        , 0.        , 0.        ],\n",
       "       [0.        , 0.        , 0.        , 0.        , 0.        ,\n",
       "        0.        , 0.33333333, 0.98823529, 0.90196078, 0.09803922,\n",
       "        0.        , 0.        , 0.        , 0.        , 0.        ,\n",
       "        0.        , 0.        , 0.        , 0.02745098, 0.52941176,\n",
       "        0.99215686, 0.72941176, 0.04705882, 0.        , 0.        ,\n",
       "        0.        , 0.        , 0.        ],\n",
       "       [0.        , 0.        , 0.        , 0.        , 0.        ,\n",
       "        0.        , 0.33333333, 0.98823529, 0.8745098 , 0.        ,\n",
       "        0.        , 0.        , 0.        , 0.        , 0.        ,\n",
       "        0.        , 0.        , 0.02745098, 0.51372549, 0.98823529,\n",
       "        0.88235294, 0.27843137, 0.        , 0.        , 0.        ,\n",
       "        0.        , 0.        , 0.        ],\n",
       "       [0.        , 0.        , 0.        , 0.        , 0.        ,\n",
       "        0.        , 0.33333333, 0.98823529, 0.56862745, 0.        ,\n",
       "        0.        , 0.        , 0.        , 0.        , 0.        ,\n",
       "        0.        , 0.18823529, 0.64705882, 0.98823529, 0.67843137,\n",
       "        0.        , 0.        , 0.        , 0.        , 0.        ,\n",
       "        0.        , 0.        , 0.        ],\n",
       "       [0.        , 0.        , 0.        , 0.        , 0.        ,\n",
       "        0.        , 0.3372549 , 0.99215686, 0.88235294, 0.        ,\n",
       "        0.        , 0.        , 0.        , 0.        , 0.        ,\n",
       "        0.44705882, 0.93333333, 0.99215686, 0.63529412, 0.        ,\n",
       "        0.        , 0.        , 0.        , 0.        , 0.        ,\n",
       "        0.        , 0.        , 0.        ],\n",
       "       [0.        , 0.        , 0.        , 0.        , 0.        ,\n",
       "        0.        , 0.33333333, 0.98823529, 0.97647059, 0.57254902,\n",
       "        0.18823529, 0.11372549, 0.33333333, 0.69803922, 0.88235294,\n",
       "        0.99215686, 0.8745098 , 0.65490196, 0.21960784, 0.        ,\n",
       "        0.        , 0.        , 0.        , 0.        , 0.        ,\n",
       "        0.        , 0.        , 0.        ],\n",
       "       [0.        , 0.        , 0.        , 0.        , 0.        ,\n",
       "        0.        , 0.33333333, 0.98823529, 0.98823529, 0.98823529,\n",
       "        0.89803922, 0.84313725, 0.98823529, 0.98823529, 0.98823529,\n",
       "        0.76862745, 0.50980392, 0.        , 0.        , 0.        ,\n",
       "        0.        , 0.        , 0.        , 0.        , 0.        ,\n",
       "        0.        , 0.        , 0.        ],\n",
       "       [0.        , 0.        , 0.        , 0.        , 0.        ,\n",
       "        0.        , 0.10980392, 0.78039216, 0.98823529, 0.98823529,\n",
       "        0.99215686, 0.98823529, 0.98823529, 0.91372549, 0.56862745,\n",
       "        0.        , 0.        , 0.        , 0.        , 0.        ,\n",
       "        0.        , 0.        , 0.        , 0.        , 0.        ,\n",
       "        0.        , 0.        , 0.        ],\n",
       "       [0.        , 0.        , 0.        , 0.        , 0.        ,\n",
       "        0.        , 0.        , 0.09803922, 0.50196078, 0.98823529,\n",
       "        0.99215686, 0.98823529, 0.55294118, 0.14509804, 0.        ,\n",
       "        0.        , 0.        , 0.        , 0.        , 0.        ,\n",
       "        0.        , 0.        , 0.        , 0.        , 0.        ,\n",
       "        0.        , 0.        , 0.        ],\n",
       "       [0.        , 0.        , 0.        , 0.        , 0.        ,\n",
       "        0.        , 0.        , 0.        , 0.        , 0.        ,\n",
       "        0.        , 0.        , 0.        , 0.        , 0.        ,\n",
       "        0.        , 0.        , 0.        , 0.        , 0.        ,\n",
       "        0.        , 0.        , 0.        , 0.        , 0.        ,\n",
       "        0.        , 0.        , 0.        ],\n",
       "       [0.        , 0.        , 0.        , 0.        , 0.        ,\n",
       "        0.        , 0.        , 0.        , 0.        , 0.        ,\n",
       "        0.        , 0.        , 0.        , 0.        , 0.        ,\n",
       "        0.        , 0.        , 0.        , 0.        , 0.        ,\n",
       "        0.        , 0.        , 0.        , 0.        , 0.        ,\n",
       "        0.        , 0.        , 0.        ],\n",
       "       [0.        , 0.        , 0.        , 0.        , 0.        ,\n",
       "        0.        , 0.        , 0.        , 0.        , 0.        ,\n",
       "        0.        , 0.        , 0.        , 0.        , 0.        ,\n",
       "        0.        , 0.        , 0.        , 0.        , 0.        ,\n",
       "        0.        , 0.        , 0.        , 0.        , 0.        ,\n",
       "        0.        , 0.        , 0.        ],\n",
       "       [0.        , 0.        , 0.        , 0.        , 0.        ,\n",
       "        0.        , 0.        , 0.        , 0.        , 0.        ,\n",
       "        0.        , 0.        , 0.        , 0.        , 0.        ,\n",
       "        0.        , 0.        , 0.        , 0.        , 0.        ,\n",
       "        0.        , 0.        , 0.        , 0.        , 0.        ,\n",
       "        0.        , 0.        , 0.        ]])"
      ]
     },
     "execution_count": 4,
     "metadata": {},
     "output_type": "execute_result"
    }
   ],
   "source": [
    "images = images/255\n",
    "images[1]"
   ]
  },
  {
   "cell_type": "code",
   "execution_count": 5,
   "id": "fefa58da",
   "metadata": {
    "execution": {
     "iopub.execute_input": "2022-07-30T11:06:24.069920Z",
     "iopub.status.busy": "2022-07-30T11:06:24.069057Z",
     "iopub.status.idle": "2022-07-30T11:06:24.077846Z",
     "shell.execute_reply": "2022-07-30T11:06:24.076954Z"
    },
    "papermill": {
     "duration": 0.016481,
     "end_time": "2022-07-30T11:06:24.079899",
     "exception": false,
     "start_time": "2022-07-30T11:06:24.063418",
     "status": "completed"
    },
    "tags": []
   },
   "outputs": [],
   "source": [
    "# labels = train_data[:40000,:1]\n",
    "# images = train_data[:40000,1:]/255\n",
    "val_labels = train_data[40000:,:1]\n",
    "val_images = train_data[40000:,1:]/255\n",
    "test_images = test_data"
   ]
  },
  {
   "cell_type": "code",
   "execution_count": null,
   "id": "0afb65f0",
   "metadata": {
    "papermill": {
     "duration": 0.004421,
     "end_time": "2022-07-30T11:06:24.089186",
     "exception": false,
     "start_time": "2022-07-30T11:06:24.084765",
     "status": "completed"
    },
    "tags": []
   },
   "outputs": [],
   "source": []
  },
  {
   "cell_type": "code",
   "execution_count": 6,
   "id": "89157555",
   "metadata": {
    "execution": {
     "iopub.execute_input": "2022-07-30T11:06:24.099367Z",
     "iopub.status.busy": "2022-07-30T11:06:24.099096Z",
     "iopub.status.idle": "2022-07-30T11:06:24.107000Z",
     "shell.execute_reply": "2022-07-30T11:06:24.106004Z"
    },
    "papermill": {
     "duration": 0.016885,
     "end_time": "2022-07-30T11:06:24.110670",
     "exception": false,
     "start_time": "2022-07-30T11:06:24.093785",
     "status": "completed"
    },
    "tags": []
   },
   "outputs": [
    {
     "name": "stdout",
     "output_type": "stream",
     "text": [
      "(60000, 28, 28)\n",
      "(60000,)\n",
      "(2000, 1)\n",
      "(2000, 784)\n",
      "(28000, 784)\n",
      "(60000, 28, 28, 1)\n",
      "(60000,)\n",
      "(2000,)\n",
      "(2000, 28, 28, 1)\n",
      "(28000, 28, 28, 1)\n"
     ]
    }
   ],
   "source": [
    "print(np.shape(images))\n",
    "print(np.shape(labels))\n",
    "print(np.shape(val_labels))\n",
    "print(np.shape(val_images))\n",
    "print(np.shape(test_images))\n",
    "images = images.reshape(60000,28,28,1)\n",
    "labels = labels.reshape(60000)\n",
    "val_labels = val_labels.reshape(2000)\n",
    "val_images = val_images.reshape(2000,28,28,1)\n",
    "test_images = test_images.reshape(28000,28,28,1)\n",
    "print(np.shape(images))\n",
    "print(np.shape(labels))\n",
    "print(np.shape(val_labels))\n",
    "print(np.shape(val_images))\n",
    "print(np.shape(test_images))"
   ]
  },
  {
   "cell_type": "code",
   "execution_count": 7,
   "id": "53d12309",
   "metadata": {
    "execution": {
     "iopub.execute_input": "2022-07-30T11:06:24.120815Z",
     "iopub.status.busy": "2022-07-30T11:06:24.120571Z",
     "iopub.status.idle": "2022-07-30T11:06:27.159930Z",
     "shell.execute_reply": "2022-07-30T11:06:27.158736Z"
    },
    "papermill": {
     "duration": 3.047557,
     "end_time": "2022-07-30T11:06:27.162773",
     "exception": false,
     "start_time": "2022-07-30T11:06:24.115216",
     "status": "completed"
    },
    "tags": []
   },
   "outputs": [
    {
     "name": "stderr",
     "output_type": "stream",
     "text": [
      "2022-07-30 11:06:24.240477: I tensorflow/stream_executor/cuda/cuda_gpu_executor.cc:937] successful NUMA node read from SysFS had negative value (-1), but there must be at least one NUMA node, so returning NUMA node zero\n",
      "2022-07-30 11:06:24.365024: I tensorflow/stream_executor/cuda/cuda_gpu_executor.cc:937] successful NUMA node read from SysFS had negative value (-1), but there must be at least one NUMA node, so returning NUMA node zero\n",
      "2022-07-30 11:06:24.365764: I tensorflow/stream_executor/cuda/cuda_gpu_executor.cc:937] successful NUMA node read from SysFS had negative value (-1), but there must be at least one NUMA node, so returning NUMA node zero\n",
      "2022-07-30 11:06:24.367786: I tensorflow/core/platform/cpu_feature_guard.cc:142] This TensorFlow binary is optimized with oneAPI Deep Neural Network Library (oneDNN) to use the following CPU instructions in performance-critical operations:  AVX2 AVX512F FMA\n",
      "To enable them in other operations, rebuild TensorFlow with the appropriate compiler flags.\n",
      "2022-07-30 11:06:24.368045: I tensorflow/stream_executor/cuda/cuda_gpu_executor.cc:937] successful NUMA node read from SysFS had negative value (-1), but there must be at least one NUMA node, so returning NUMA node zero\n",
      "2022-07-30 11:06:24.368800: I tensorflow/stream_executor/cuda/cuda_gpu_executor.cc:937] successful NUMA node read from SysFS had negative value (-1), but there must be at least one NUMA node, so returning NUMA node zero\n",
      "2022-07-30 11:06:24.369456: I tensorflow/stream_executor/cuda/cuda_gpu_executor.cc:937] successful NUMA node read from SysFS had negative value (-1), but there must be at least one NUMA node, so returning NUMA node zero\n",
      "2022-07-30 11:06:26.413029: I tensorflow/stream_executor/cuda/cuda_gpu_executor.cc:937] successful NUMA node read from SysFS had negative value (-1), but there must be at least one NUMA node, so returning NUMA node zero\n",
      "2022-07-30 11:06:26.414553: I tensorflow/stream_executor/cuda/cuda_gpu_executor.cc:937] successful NUMA node read from SysFS had negative value (-1), but there must be at least one NUMA node, so returning NUMA node zero\n",
      "2022-07-30 11:06:26.415831: I tensorflow/stream_executor/cuda/cuda_gpu_executor.cc:937] successful NUMA node read from SysFS had negative value (-1), but there must be at least one NUMA node, so returning NUMA node zero\n",
      "2022-07-30 11:06:26.416948: I tensorflow/core/common_runtime/gpu/gpu_device.cc:1510] Created device /job:localhost/replica:0/task:0/device:GPU:0 with 15403 MB memory:  -> device: 0, name: Tesla P100-PCIE-16GB, pci bus id: 0000:00:04.0, compute capability: 6.0\n"
     ]
    },
    {
     "name": "stdout",
     "output_type": "stream",
     "text": [
      "Model: \"sequential\"\n",
      "_________________________________________________________________\n",
      "Layer (type)                 Output Shape              Param #   \n",
      "=================================================================\n",
      "conv2d (Conv2D)              (None, 24, 24, 32)        832       \n",
      "_________________________________________________________________\n",
      "conv2d_1 (Conv2D)            (None, 20, 20, 32)        25600     \n",
      "_________________________________________________________________\n",
      "batch_normalization (BatchNo (None, 20, 20, 32)        128       \n",
      "_________________________________________________________________\n",
      "max_pooling2d (MaxPooling2D) (None, 10, 10, 32)        0         \n",
      "_________________________________________________________________\n",
      "dropout (Dropout)            (None, 10, 10, 32)        0         \n",
      "_________________________________________________________________\n",
      "conv2d_2 (Conv2D)            (None, 8, 8, 64)          18496     \n",
      "_________________________________________________________________\n",
      "conv2d_3 (Conv2D)            (None, 6, 6, 64)          36864     \n",
      "_________________________________________________________________\n",
      "batch_normalization_1 (Batch (None, 6, 6, 64)          256       \n",
      "_________________________________________________________________\n",
      "max_pooling2d_1 (MaxPooling2 (None, 3, 3, 64)          0         \n",
      "_________________________________________________________________\n",
      "dropout_1 (Dropout)          (None, 3, 3, 64)          0         \n",
      "_________________________________________________________________\n",
      "flatten (Flatten)            (None, 576)               0         \n",
      "_________________________________________________________________\n",
      "dense (Dense)                (None, 512)               294912    \n",
      "_________________________________________________________________\n",
      "batch_normalization_2 (Batch (None, 512)               2048      \n",
      "_________________________________________________________________\n",
      "dropout_2 (Dropout)          (None, 512)               0         \n",
      "_________________________________________________________________\n",
      "dense_1 (Dense)              (None, 512)               262144    \n",
      "_________________________________________________________________\n",
      "batch_normalization_3 (Batch (None, 512)               2048      \n",
      "_________________________________________________________________\n",
      "dropout_3 (Dropout)          (None, 512)               0         \n",
      "_________________________________________________________________\n",
      "dense_2 (Dense)              (None, 256)               131072    \n",
      "_________________________________________________________________\n",
      "batch_normalization_4 (Batch (None, 256)               1024      \n",
      "_________________________________________________________________\n",
      "dense_3 (Dense)              (None, 128)               32768     \n",
      "_________________________________________________________________\n",
      "batch_normalization_5 (Batch (None, 128)               512       \n",
      "_________________________________________________________________\n",
      "dense_4 (Dense)              (None, 84)                10752     \n",
      "_________________________________________________________________\n",
      "batch_normalization_6 (Batch (None, 84)                336       \n",
      "_________________________________________________________________\n",
      "dropout_4 (Dropout)          (None, 84)                0         \n",
      "_________________________________________________________________\n",
      "dense_5 (Dense)              (None, 10)                850       \n",
      "=================================================================\n",
      "Total params: 820,642\n",
      "Trainable params: 817,466\n",
      "Non-trainable params: 3,176\n",
      "_________________________________________________________________\n"
     ]
    }
   ],
   "source": [
    "model = tf.keras.Sequential([\n",
    "    tf.keras.layers.Conv2D(filters = 32, kernel_size = 5, strides = 1, activation = 'relu', kernel_regularizer=tf.keras.regularizers.L2(0.0005),input_shape=(28,28,1)),\n",
    "    tf.keras.layers.Conv2D(filters = 32, kernel_size = 5, strides = 1, activation  = 'relu', use_bias=False),\n",
    "    tf.keras.layers.BatchNormalization(),\n",
    "    tf.keras.layers.MaxPooling2D(2,2),\n",
    "    tf.keras.layers.Dropout(0.25),\n",
    "    tf.keras.layers.Conv2D(filters = 64, kernel_size = 3, strides = 1, activation = 'relu', kernel_regularizer=tf.keras.regularizers.L2(0.0005)),\n",
    "    tf.keras.layers.Conv2D(filters = 64, kernel_size = 3, strides = 1, activation = 'relu', use_bias=False),\n",
    "    tf.keras.layers.BatchNormalization(),\n",
    "    tf.keras.layers.MaxPooling2D(pool_size = 2, strides = 2),\n",
    "    tf.keras.layers.Dropout(0.25),\n",
    "    tf.keras.layers.Flatten(),\n",
    "    tf.keras.layers.Dense(units = 512, use_bias=False, activation = 'relu'),\n",
    "    tf.keras.layers.BatchNormalization(),\n",
    "    tf.keras.layers.Dropout(0.25),\n",
    "    tf.keras.layers.Dense(units = 512, use_bias=False, activation = 'relu'),\n",
    "    tf.keras.layers.BatchNormalization(),\n",
    "    tf.keras.layers.Dropout(0.25),\n",
    "    tf.keras.layers.Dense(units = 256, use_bias=False, activation = 'relu'),\n",
    "    tf.keras.layers.BatchNormalization(),\n",
    "    tf.keras.layers.Dense(units = 128, use_bias=False, activation = 'relu'),\n",
    "    tf.keras.layers.BatchNormalization(),\n",
    "    tf.keras.layers.Dense(units = 84, use_bias=False, activation = 'relu'),\n",
    "    tf.keras.layers.BatchNormalization(),\n",
    "    tf.keras.layers.Dropout(0.25),\n",
    "    tf.keras.layers.Dense(units = 10, activation = 'softmax')\n",
    "])\n",
    "model.summary()"
   ]
  },
  {
   "cell_type": "code",
   "execution_count": 8,
   "id": "6ef9f4a6",
   "metadata": {
    "execution": {
     "iopub.execute_input": "2022-07-30T11:06:27.174302Z",
     "iopub.status.busy": "2022-07-30T11:06:27.173993Z",
     "iopub.status.idle": "2022-07-30T11:06:27.185957Z",
     "shell.execute_reply": "2022-07-30T11:06:27.185140Z"
    },
    "papermill": {
     "duration": 0.019669,
     "end_time": "2022-07-30T11:06:27.187924",
     "exception": false,
     "start_time": "2022-07-30T11:06:27.168255",
     "status": "completed"
    },
    "tags": []
   },
   "outputs": [],
   "source": [
    "model.compile(loss = 'sparse_categorical_crossentropy', optimizer = 'adam', metrics = 'accuracy')"
   ]
  },
  {
   "cell_type": "code",
   "execution_count": 9,
   "id": "bde8bd51",
   "metadata": {
    "execution": {
     "iopub.execute_input": "2022-07-30T11:06:27.198467Z",
     "iopub.status.busy": "2022-07-30T11:06:27.198148Z",
     "iopub.status.idle": "2022-07-30T11:23:35.691328Z",
     "shell.execute_reply": "2022-07-30T11:23:35.690434Z"
    },
    "papermill": {
     "duration": 1028.500721,
     "end_time": "2022-07-30T11:23:35.693347",
     "exception": false,
     "start_time": "2022-07-30T11:06:27.192626",
     "status": "completed"
    },
    "tags": []
   },
   "outputs": [
    {
     "name": "stderr",
     "output_type": "stream",
     "text": [
      "2022-07-30 11:06:27.650536: I tensorflow/compiler/mlir/mlir_graph_optimization_pass.cc:185] None of the MLIR Optimization Passes are enabled (registered 2)\n"
     ]
    },
    {
     "name": "stdout",
     "output_type": "stream",
     "text": [
      "Epoch 1/100\n"
     ]
    },
    {
     "name": "stderr",
     "output_type": "stream",
     "text": [
      "2022-07-30 11:06:29.826791: I tensorflow/stream_executor/cuda/cuda_dnn.cc:369] Loaded cuDNN version 8005\n"
     ]
    },
    {
     "name": "stdout",
     "output_type": "stream",
     "text": [
      "1875/1875 [==============================] - 18s 5ms/step - loss: 0.3202 - accuracy: 0.9116 - val_loss: 0.0853 - val_accuracy: 0.9805\n",
      "Epoch 2/100\n",
      "1875/1875 [==============================] - 10s 6ms/step - loss: 0.1409 - accuracy: 0.9650 - val_loss: 0.0623 - val_accuracy: 0.9870\n",
      "Epoch 3/100\n",
      "1875/1875 [==============================] - 10s 5ms/step - loss: 0.1111 - accuracy: 0.9743 - val_loss: 0.0532 - val_accuracy: 0.9885\n",
      "Epoch 4/100\n",
      "1875/1875 [==============================] - 10s 5ms/step - loss: 0.1009 - accuracy: 0.9775 - val_loss: 0.0532 - val_accuracy: 0.9860\n",
      "Epoch 5/100\n",
      "1875/1875 [==============================] - 10s 5ms/step - loss: 0.0877 - accuracy: 0.9807 - val_loss: 0.0480 - val_accuracy: 0.9895\n",
      "Epoch 6/100\n",
      "1875/1875 [==============================] - 10s 6ms/step - loss: 0.0825 - accuracy: 0.9819 - val_loss: 0.0407 - val_accuracy: 0.9915\n",
      "Epoch 7/100\n",
      "1875/1875 [==============================] - 10s 5ms/step - loss: 0.0746 - accuracy: 0.9840 - val_loss: 0.0417 - val_accuracy: 0.9940\n",
      "Epoch 8/100\n",
      "1875/1875 [==============================] - 10s 5ms/step - loss: 0.0707 - accuracy: 0.9846 - val_loss: 0.0323 - val_accuracy: 0.9950\n",
      "Epoch 9/100\n",
      "1875/1875 [==============================] - 10s 5ms/step - loss: 0.0658 - accuracy: 0.9864 - val_loss: 0.0469 - val_accuracy: 0.9920\n",
      "Epoch 10/100\n",
      "1875/1875 [==============================] - 10s 6ms/step - loss: 0.0618 - accuracy: 0.9878 - val_loss: 0.0296 - val_accuracy: 0.9960\n",
      "Epoch 11/100\n",
      "1875/1875 [==============================] - 10s 5ms/step - loss: 0.0592 - accuracy: 0.9883 - val_loss: 0.0405 - val_accuracy: 0.9905\n",
      "Epoch 12/100\n",
      "1875/1875 [==============================] - 10s 5ms/step - loss: 0.0585 - accuracy: 0.9882 - val_loss: 0.0465 - val_accuracy: 0.9910\n",
      "Epoch 13/100\n",
      "1875/1875 [==============================] - 10s 6ms/step - loss: 0.0561 - accuracy: 0.9894 - val_loss: 0.0331 - val_accuracy: 0.9950\n",
      "Epoch 14/100\n",
      "1875/1875 [==============================] - 11s 6ms/step - loss: 0.0518 - accuracy: 0.9897 - val_loss: 0.0403 - val_accuracy: 0.9930\n",
      "Epoch 15/100\n",
      "1875/1875 [==============================] - 10s 5ms/step - loss: 0.0501 - accuracy: 0.9904 - val_loss: 0.0260 - val_accuracy: 0.9970\n",
      "Epoch 16/100\n",
      "1875/1875 [==============================] - 10s 5ms/step - loss: 0.0501 - accuracy: 0.9901 - val_loss: 0.0330 - val_accuracy: 0.9955\n",
      "Epoch 17/100\n",
      "1875/1875 [==============================] - 10s 5ms/step - loss: 0.0477 - accuracy: 0.9906 - val_loss: 0.0299 - val_accuracy: 0.9960\n",
      "Epoch 18/100\n",
      "1875/1875 [==============================] - 10s 6ms/step - loss: 0.0492 - accuracy: 0.9902 - val_loss: 0.0258 - val_accuracy: 0.9960\n",
      "Epoch 19/100\n",
      "1875/1875 [==============================] - 10s 5ms/step - loss: 0.0453 - accuracy: 0.9915 - val_loss: 0.0315 - val_accuracy: 0.9950\n",
      "Epoch 20/100\n",
      "1875/1875 [==============================] - 10s 5ms/step - loss: 0.0439 - accuracy: 0.9918 - val_loss: 0.0419 - val_accuracy: 0.9915\n",
      "Epoch 21/100\n",
      "1875/1875 [==============================] - 10s 5ms/step - loss: 0.0430 - accuracy: 0.9920 - val_loss: 0.0258 - val_accuracy: 0.9975\n",
      "Epoch 22/100\n",
      "1875/1875 [==============================] - 10s 5ms/step - loss: 0.0424 - accuracy: 0.9920 - val_loss: 0.0280 - val_accuracy: 0.9955\n",
      "Epoch 23/100\n",
      "1875/1875 [==============================] - 10s 6ms/step - loss: 0.0406 - accuracy: 0.9924 - val_loss: 0.0244 - val_accuracy: 0.9960\n",
      "Epoch 24/100\n",
      "1875/1875 [==============================] - 10s 5ms/step - loss: 0.0399 - accuracy: 0.9927 - val_loss: 0.0255 - val_accuracy: 0.9955\n",
      "Epoch 25/100\n",
      "1875/1875 [==============================] - 10s 5ms/step - loss: 0.0375 - accuracy: 0.9930 - val_loss: 0.0228 - val_accuracy: 0.9970\n",
      "Epoch 26/100\n",
      "1875/1875 [==============================] - 10s 5ms/step - loss: 0.0384 - accuracy: 0.9927 - val_loss: 0.0240 - val_accuracy: 0.9970\n",
      "Epoch 27/100\n",
      "1875/1875 [==============================] - 11s 6ms/step - loss: 0.0375 - accuracy: 0.9931 - val_loss: 0.0257 - val_accuracy: 0.9965\n",
      "Epoch 28/100\n",
      "1875/1875 [==============================] - 10s 5ms/step - loss: 0.0358 - accuracy: 0.9934 - val_loss: 0.0184 - val_accuracy: 0.9980\n",
      "Epoch 29/100\n",
      "1875/1875 [==============================] - 10s 5ms/step - loss: 0.0351 - accuracy: 0.9937 - val_loss: 0.0219 - val_accuracy: 0.9975\n",
      "Epoch 30/100\n",
      "1875/1875 [==============================] - 10s 5ms/step - loss: 0.0357 - accuracy: 0.9935 - val_loss: 0.0212 - val_accuracy: 0.9985\n",
      "Epoch 31/100\n",
      "1875/1875 [==============================] - 10s 5ms/step - loss: 0.0360 - accuracy: 0.9934 - val_loss: 0.0223 - val_accuracy: 0.9960\n",
      "Epoch 32/100\n",
      "1875/1875 [==============================] - 10s 5ms/step - loss: 0.0338 - accuracy: 0.9938 - val_loss: 0.0203 - val_accuracy: 0.9970\n",
      "Epoch 33/100\n",
      "1875/1875 [==============================] - 11s 6ms/step - loss: 0.0344 - accuracy: 0.9936 - val_loss: 0.0270 - val_accuracy: 0.9970\n",
      "Epoch 34/100\n",
      "1875/1875 [==============================] - 10s 5ms/step - loss: 0.0332 - accuracy: 0.9940 - val_loss: 0.0233 - val_accuracy: 0.9960\n",
      "Epoch 35/100\n",
      "1875/1875 [==============================] - 10s 5ms/step - loss: 0.0320 - accuracy: 0.9941 - val_loss: 0.0226 - val_accuracy: 0.9945\n",
      "Epoch 36/100\n",
      "1875/1875 [==============================] - 11s 6ms/step - loss: 0.0327 - accuracy: 0.9943 - val_loss: 0.0211 - val_accuracy: 0.9970\n",
      "Epoch 37/100\n",
      "1875/1875 [==============================] - 10s 5ms/step - loss: 0.0319 - accuracy: 0.9941 - val_loss: 0.0210 - val_accuracy: 0.9975\n",
      "Epoch 38/100\n",
      "1875/1875 [==============================] - 10s 5ms/step - loss: 0.0321 - accuracy: 0.9940 - val_loss: 0.0202 - val_accuracy: 0.9965\n",
      "Epoch 39/100\n",
      "1875/1875 [==============================] - 10s 5ms/step - loss: 0.0301 - accuracy: 0.9946 - val_loss: 0.0192 - val_accuracy: 0.9975\n",
      "Epoch 40/100\n",
      "1875/1875 [==============================] - 10s 5ms/step - loss: 0.0296 - accuracy: 0.9948 - val_loss: 0.0236 - val_accuracy: 0.9965\n",
      "Epoch 41/100\n",
      "1875/1875 [==============================] - 10s 5ms/step - loss: 0.0316 - accuracy: 0.9943 - val_loss: 0.0220 - val_accuracy: 0.9970\n",
      "Epoch 42/100\n",
      "1875/1875 [==============================] - 10s 5ms/step - loss: 0.0288 - accuracy: 0.9951 - val_loss: 0.0231 - val_accuracy: 0.9960\n",
      "Epoch 43/100\n",
      "1875/1875 [==============================] - 10s 6ms/step - loss: 0.0286 - accuracy: 0.9951 - val_loss: 0.0275 - val_accuracy: 0.9965\n",
      "Epoch 44/100\n",
      "1875/1875 [==============================] - 10s 5ms/step - loss: 0.0306 - accuracy: 0.9946 - val_loss: 0.0172 - val_accuracy: 0.9980\n",
      "Epoch 45/100\n",
      "1875/1875 [==============================] - 10s 5ms/step - loss: 0.0289 - accuracy: 0.9948 - val_loss: 0.0190 - val_accuracy: 0.9980\n",
      "Epoch 46/100\n",
      "1875/1875 [==============================] - 10s 5ms/step - loss: 0.0274 - accuracy: 0.9949 - val_loss: 0.0225 - val_accuracy: 0.9970\n",
      "Epoch 47/100\n",
      "1875/1875 [==============================] - 11s 6ms/step - loss: 0.0279 - accuracy: 0.9952 - val_loss: 0.0192 - val_accuracy: 0.9970\n",
      "Epoch 48/100\n",
      "1875/1875 [==============================] - 10s 6ms/step - loss: 0.0274 - accuracy: 0.9953 - val_loss: 0.0184 - val_accuracy: 0.9975\n",
      "Epoch 49/100\n",
      "1875/1875 [==============================] - 10s 5ms/step - loss: 0.0278 - accuracy: 0.9954 - val_loss: 0.0194 - val_accuracy: 0.9955\n",
      "Epoch 50/100\n",
      "1875/1875 [==============================] - 10s 5ms/step - loss: 0.0265 - accuracy: 0.9954 - val_loss: 0.0222 - val_accuracy: 0.9970\n",
      "Epoch 51/100\n",
      "1875/1875 [==============================] - 10s 5ms/step - loss: 0.0276 - accuracy: 0.9955 - val_loss: 0.0192 - val_accuracy: 0.9975\n",
      "Epoch 52/100\n",
      "1875/1875 [==============================] - 10s 6ms/step - loss: 0.0263 - accuracy: 0.9956 - val_loss: 0.0195 - val_accuracy: 0.9975\n",
      "Epoch 53/100\n",
      "1875/1875 [==============================] - 10s 5ms/step - loss: 0.0259 - accuracy: 0.9956 - val_loss: 0.0192 - val_accuracy: 0.9980\n",
      "Epoch 54/100\n",
      "1875/1875 [==============================] - 10s 5ms/step - loss: 0.0267 - accuracy: 0.9954 - val_loss: 0.0190 - val_accuracy: 0.9980\n",
      "Epoch 55/100\n",
      "1875/1875 [==============================] - 10s 5ms/step - loss: 0.0255 - accuracy: 0.9957 - val_loss: 0.0194 - val_accuracy: 0.9985\n",
      "Epoch 56/100\n",
      "1875/1875 [==============================] - 10s 6ms/step - loss: 0.0255 - accuracy: 0.9958 - val_loss: 0.0153 - val_accuracy: 0.9980\n",
      "Epoch 57/100\n",
      "1875/1875 [==============================] - 10s 5ms/step - loss: 0.0264 - accuracy: 0.9956 - val_loss: 0.0189 - val_accuracy: 0.9975\n",
      "Epoch 58/100\n",
      "1875/1875 [==============================] - 10s 5ms/step - loss: 0.0264 - accuracy: 0.9953 - val_loss: 0.0195 - val_accuracy: 0.9985\n",
      "Epoch 59/100\n",
      "1875/1875 [==============================] - 10s 5ms/step - loss: 0.0247 - accuracy: 0.9961 - val_loss: 0.0151 - val_accuracy: 0.9975\n",
      "Epoch 60/100\n",
      "1875/1875 [==============================] - 11s 6ms/step - loss: 0.0264 - accuracy: 0.9955 - val_loss: 0.0166 - val_accuracy: 0.9970\n",
      "Epoch 61/100\n",
      "1875/1875 [==============================] - 10s 5ms/step - loss: 0.0252 - accuracy: 0.9958 - val_loss: 0.0168 - val_accuracy: 0.9985\n",
      "Epoch 62/100\n",
      "1875/1875 [==============================] - 10s 5ms/step - loss: 0.0257 - accuracy: 0.9960 - val_loss: 0.0170 - val_accuracy: 0.9980\n",
      "Epoch 63/100\n",
      "1875/1875 [==============================] - 11s 6ms/step - loss: 0.0234 - accuracy: 0.9964 - val_loss: 0.0196 - val_accuracy: 0.9960\n",
      "Epoch 64/100\n",
      "1875/1875 [==============================] - 10s 5ms/step - loss: 0.0242 - accuracy: 0.9963 - val_loss: 0.0142 - val_accuracy: 0.9990\n",
      "Epoch 65/100\n",
      "1875/1875 [==============================] - 10s 5ms/step - loss: 0.0257 - accuracy: 0.9956 - val_loss: 0.0177 - val_accuracy: 0.9980\n",
      "Epoch 66/100\n",
      "1875/1875 [==============================] - 10s 6ms/step - loss: 0.0252 - accuracy: 0.9960 - val_loss: 0.0262 - val_accuracy: 0.9955\n",
      "Epoch 67/100\n",
      "1875/1875 [==============================] - 10s 6ms/step - loss: 0.0237 - accuracy: 0.9961 - val_loss: 0.0198 - val_accuracy: 0.9975\n",
      "Epoch 68/100\n",
      "1875/1875 [==============================] - 10s 5ms/step - loss: 0.0241 - accuracy: 0.9960 - val_loss: 0.0165 - val_accuracy: 0.9980\n",
      "Epoch 69/100\n",
      "1875/1875 [==============================] - 10s 6ms/step - loss: 0.0232 - accuracy: 0.9963 - val_loss: 0.0195 - val_accuracy: 0.9980\n",
      "Epoch 70/100\n",
      "1875/1875 [==============================] - 10s 5ms/step - loss: 0.0231 - accuracy: 0.9963 - val_loss: 0.0190 - val_accuracy: 0.9985\n",
      "Epoch 71/100\n",
      "1875/1875 [==============================] - 10s 6ms/step - loss: 0.0250 - accuracy: 0.9960 - val_loss: 0.0180 - val_accuracy: 0.9975\n",
      "Epoch 72/100\n",
      "1875/1875 [==============================] - 11s 6ms/step - loss: 0.0236 - accuracy: 0.9961 - val_loss: 0.0174 - val_accuracy: 0.9985\n",
      "Epoch 73/100\n",
      "1875/1875 [==============================] - 10s 5ms/step - loss: 0.0230 - accuracy: 0.9961 - val_loss: 0.0181 - val_accuracy: 0.9975\n",
      "Epoch 74/100\n",
      "1875/1875 [==============================] - 10s 5ms/step - loss: 0.0240 - accuracy: 0.9963 - val_loss: 0.0141 - val_accuracy: 0.9985\n",
      "Epoch 75/100\n",
      "1875/1875 [==============================] - 11s 6ms/step - loss: 0.0236 - accuracy: 0.9961 - val_loss: 0.0201 - val_accuracy: 0.9960\n",
      "Epoch 76/100\n",
      "1875/1875 [==============================] - 10s 5ms/step - loss: 0.0225 - accuracy: 0.9963 - val_loss: 0.0146 - val_accuracy: 0.9985\n",
      "Epoch 77/100\n",
      "1875/1875 [==============================] - 10s 5ms/step - loss: 0.0235 - accuracy: 0.9963 - val_loss: 0.0147 - val_accuracy: 0.9980\n",
      "Epoch 78/100\n",
      "1875/1875 [==============================] - 11s 6ms/step - loss: 0.0211 - accuracy: 0.9967 - val_loss: 0.0144 - val_accuracy: 0.9990\n",
      "Epoch 79/100\n",
      "1875/1875 [==============================] - 10s 5ms/step - loss: 0.0222 - accuracy: 0.9964 - val_loss: 0.0153 - val_accuracy: 0.9980\n",
      "Epoch 80/100\n",
      "1875/1875 [==============================] - 10s 5ms/step - loss: 0.0224 - accuracy: 0.9968 - val_loss: 0.0153 - val_accuracy: 0.9980\n",
      "Epoch 81/100\n",
      "1875/1875 [==============================] - 10s 5ms/step - loss: 0.0215 - accuracy: 0.9965 - val_loss: 0.0208 - val_accuracy: 0.9955\n",
      "Epoch 82/100\n",
      "1875/1875 [==============================] - 10s 6ms/step - loss: 0.0216 - accuracy: 0.9964 - val_loss: 0.0137 - val_accuracy: 0.9985\n",
      "Epoch 83/100\n",
      "1875/1875 [==============================] - 10s 6ms/step - loss: 0.0237 - accuracy: 0.9963 - val_loss: 0.0143 - val_accuracy: 0.9985\n",
      "Epoch 84/100\n",
      "1875/1875 [==============================] - 10s 5ms/step - loss: 0.0224 - accuracy: 0.9964 - val_loss: 0.0145 - val_accuracy: 0.9975\n",
      "Epoch 85/100\n",
      "1875/1875 [==============================] - 10s 6ms/step - loss: 0.0205 - accuracy: 0.9969 - val_loss: 0.0183 - val_accuracy: 0.9970\n",
      "Epoch 86/100\n",
      "1875/1875 [==============================] - 11s 6ms/step - loss: 0.0216 - accuracy: 0.9966 - val_loss: 0.0185 - val_accuracy: 0.9980\n",
      "Epoch 87/100\n",
      "1875/1875 [==============================] - 10s 5ms/step - loss: 0.0205 - accuracy: 0.9969 - val_loss: 0.0172 - val_accuracy: 0.9985\n",
      "Epoch 88/100\n",
      "1875/1875 [==============================] - 10s 6ms/step - loss: 0.0211 - accuracy: 0.9966 - val_loss: 0.0155 - val_accuracy: 0.9980\n",
      "Epoch 89/100\n",
      "1875/1875 [==============================] - 10s 5ms/step - loss: 0.0197 - accuracy: 0.9969 - val_loss: 0.0157 - val_accuracy: 0.9980\n",
      "Epoch 90/100\n",
      "1875/1875 [==============================] - 10s 5ms/step - loss: 0.0215 - accuracy: 0.9965 - val_loss: 0.0169 - val_accuracy: 0.9975\n",
      "Epoch 91/100\n",
      "1875/1875 [==============================] - 10s 6ms/step - loss: 0.0215 - accuracy: 0.9966 - val_loss: 0.0187 - val_accuracy: 0.9965\n",
      "Epoch 92/100\n",
      "1875/1875 [==============================] - 10s 5ms/step - loss: 0.0200 - accuracy: 0.9969 - val_loss: 0.0123 - val_accuracy: 0.9990\n",
      "Epoch 93/100\n",
      "1875/1875 [==============================] - 10s 5ms/step - loss: 0.0214 - accuracy: 0.9968 - val_loss: 0.0175 - val_accuracy: 0.9985\n",
      "Epoch 94/100\n",
      "1875/1875 [==============================] - 10s 6ms/step - loss: 0.0212 - accuracy: 0.9967 - val_loss: 0.0181 - val_accuracy: 0.9975\n",
      "Epoch 95/100\n",
      "1875/1875 [==============================] - 10s 5ms/step - loss: 0.0190 - accuracy: 0.9969 - val_loss: 0.0143 - val_accuracy: 0.9990\n",
      "Epoch 96/100\n",
      "1875/1875 [==============================] - 11s 6ms/step - loss: 0.0210 - accuracy: 0.9965 - val_loss: 0.0177 - val_accuracy: 0.9985\n",
      "Epoch 97/100\n",
      "1875/1875 [==============================] - 11s 6ms/step - loss: 0.0212 - accuracy: 0.9968 - val_loss: 0.0193 - val_accuracy: 0.9990\n",
      "Epoch 98/100\n",
      "1875/1875 [==============================] - 10s 5ms/step - loss: 0.0209 - accuracy: 0.9968 - val_loss: 0.0208 - val_accuracy: 0.9975\n",
      "Epoch 99/100\n",
      "1875/1875 [==============================] - 10s 6ms/step - loss: 0.0219 - accuracy: 0.9966 - val_loss: 0.0157 - val_accuracy: 0.9980\n",
      "Epoch 100/100\n",
      "1875/1875 [==============================] - 11s 6ms/step - loss: 0.0214 - accuracy: 0.9965 - val_loss: 0.0151 - val_accuracy: 0.9985\n"
     ]
    },
    {
     "data": {
      "text/plain": [
       "<keras.callbacks.History at 0x7ff58ba5da50>"
      ]
     },
     "execution_count": 9,
     "metadata": {},
     "output_type": "execute_result"
    }
   ],
   "source": [
    "model.fit(images, labels , epochs = 100 , validation_data = (val_images, val_labels))"
   ]
  },
  {
   "cell_type": "code",
   "execution_count": 10,
   "id": "d38dbfce",
   "metadata": {
    "execution": {
     "iopub.execute_input": "2022-07-30T11:23:38.133069Z",
     "iopub.status.busy": "2022-07-30T11:23:38.132606Z",
     "iopub.status.idle": "2022-07-30T11:23:39.966544Z",
     "shell.execute_reply": "2022-07-30T11:23:39.965530Z"
    },
    "papermill": {
     "duration": 3.05683,
     "end_time": "2022-07-30T11:23:39.969599",
     "exception": false,
     "start_time": "2022-07-30T11:23:36.912769",
     "status": "completed"
    },
    "tags": []
   },
   "outputs": [],
   "source": [
    "predictions = model.predict(test_images)"
   ]
  },
  {
   "cell_type": "code",
   "execution_count": 11,
   "id": "a624f6c1",
   "metadata": {
    "execution": {
     "iopub.execute_input": "2022-07-30T11:23:42.734906Z",
     "iopub.status.busy": "2022-07-30T11:23:42.734473Z",
     "iopub.status.idle": "2022-07-30T11:23:42.808061Z",
     "shell.execute_reply": "2022-07-30T11:23:42.807182Z"
    },
    "papermill": {
     "duration": 1.262832,
     "end_time": "2022-07-30T11:23:42.810101",
     "exception": false,
     "start_time": "2022-07-30T11:23:41.547269",
     "status": "completed"
    },
    "tags": []
   },
   "outputs": [],
   "source": [
    "a=[]\n",
    "for prediction in predictions:\n",
    "    a.append(np.argmax(prediction))\n",
    "b = np.array(a)"
   ]
  },
  {
   "cell_type": "code",
   "execution_count": 12,
   "id": "5365834e",
   "metadata": {
    "execution": {
     "iopub.execute_input": "2022-07-30T11:23:45.249026Z",
     "iopub.status.busy": "2022-07-30T11:23:45.248675Z",
     "iopub.status.idle": "2022-07-30T11:23:45.321545Z",
     "shell.execute_reply": "2022-07-30T11:23:45.320445Z"
    },
    "papermill": {
     "duration": 1.295847,
     "end_time": "2022-07-30T11:23:45.323512",
     "exception": false,
     "start_time": "2022-07-30T11:23:44.027665",
     "status": "completed"
    },
    "tags": []
   },
   "outputs": [],
   "source": [
    "np.savetxt('predictions_final2.csv',b, delimiter=',')"
   ]
  },
  {
   "cell_type": "code",
   "execution_count": null,
   "id": "270c33cc",
   "metadata": {
    "execution": {
     "iopub.execute_input": "2022-07-29T15:24:00.056709Z",
     "iopub.status.busy": "2022-07-29T15:24:00.056141Z",
     "iopub.status.idle": "2022-07-29T15:24:00.064817Z",
     "shell.execute_reply": "2022-07-29T15:24:00.063683Z",
     "shell.execute_reply.started": "2022-07-29T15:24:00.056655Z"
    },
    "papermill": {
     "duration": 1.222114,
     "end_time": "2022-07-30T11:23:47.762609",
     "exception": false,
     "start_time": "2022-07-30T11:23:46.540495",
     "status": "completed"
    },
    "tags": []
   },
   "outputs": [],
   "source": []
  },
  {
   "cell_type": "code",
   "execution_count": null,
   "id": "88ea25dd",
   "metadata": {
    "papermill": {
     "duration": 1.183706,
     "end_time": "2022-07-30T11:23:50.157838",
     "exception": false,
     "start_time": "2022-07-30T11:23:48.974132",
     "status": "completed"
    },
    "tags": []
   },
   "outputs": [],
   "source": []
  }
 ],
 "metadata": {
  "kernelspec": {
   "display_name": "Python 3",
   "language": "python",
   "name": "python3"
  },
  "language_info": {
   "codemirror_mode": {
    "name": "ipython",
    "version": 3
   },
   "file_extension": ".py",
   "mimetype": "text/x-python",
   "name": "python",
   "nbconvert_exporter": "python",
   "pygments_lexer": "ipython3",
   "version": "3.7.12"
  },
  "papermill": {
   "default_parameters": {},
   "duration": 1069.471701,
   "end_time": "2022-07-30T11:23:54.438426",
   "environment_variables": {},
   "exception": null,
   "input_path": "__notebook__.ipynb",
   "output_path": "__notebook__.ipynb",
   "parameters": {},
   "start_time": "2022-07-30T11:06:04.966725",
   "version": "2.3.4"
  }
 },
 "nbformat": 4,
 "nbformat_minor": 5
}
